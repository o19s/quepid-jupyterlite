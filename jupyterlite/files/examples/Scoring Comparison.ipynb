{
  "metadata": {
    "language_info": {
      "codemirror_mode": {
        "name": "python",
        "version": 3
      },
      "file_extension": ".py",
      "mimetype": "text/x-python",
      "name": "python",
      "nbconvert_exporter": "python",
      "pygments_lexer": "ipython3",
      "version": "3.8"
    },
    "kernelspec": {
      "name": "python",
      "display_name": "Python (Pyodide)",
      "language": "python"
    }
  },
  "nbformat_minor": 4,
  "nbformat": 4,
  "cells": [
    {
      "cell_type": "markdown",
      "source": "# Scoring Comparison\nTo understand the magnatude of changes, you can compare multiple snapshots of a case against each other.  The final visualization shows you a histogram of your snapshots overlaid with each other so you can see how your individual query scorers changed.\nThis visualization assumes you are using the same scorer and query set for all the snapshots.   It also assumes the snapshots come from the same case!\n\nPlease copy this example and customize it for your own purposes!",
      "metadata": {}
    },
    {
      "cell_type": "markdown",
      "source": "### Imports",
      "metadata": {}
    },
    {
      "cell_type": "code",
      "source": "from js import fetch\nimport pandas as pd\nfrom datetime import datetime\nimport random\nfrom matplotlib import pyplot\n%matplotlib inline",
      "metadata": {
        "trusted": true
      },
      "execution_count": 1,
      "outputs": []
    },
    {
      "cell_type": "markdown",
      "source": "## Define the Data You Want",
      "metadata": {}
    },
    {
      "cell_type": "code",
      "source": "CASE_ID = 6789   # Your Case\nSNAPSHOT_IDS = [2471,2473]   # Your Snapshots.  Use the Compare Snapshot function in Quepid to see what the specific ID's are of your snapshots.",
      "metadata": {
        "trusted": true
      },
      "execution_count": 2,
      "outputs": []
    },
    {
      "cell_type": "markdown",
      "source": "### Pull data directly from Quepid's snapshot repository",
      "metadata": {}
    },
    {
      "cell_type": "code",
      "source": "\n# Retrieve from Quepid API all the snapshots\nsnapshots = []\nfor snapshot_id in SNAPSHOT_IDS:\n    res = await fetch(f'/api/cases/{CASE_ID}/snapshots/{snapshot_id}.json')\n    snapshots.append(await res.json())",
      "metadata": {
        "trusted": true
      },
      "execution_count": 3,
      "outputs": []
    },
    {
      "cell_type": "markdown",
      "source": "### Read in data to a dataframe",
      "metadata": {}
    },
    {
      "cell_type": "code",
      "source": "queryData = []\nsnapshotNames = {}\n\nfor snapshot in snapshots:\n    queryToScoreDict = {}\n    queryToNumFoundDict = {}\n    snapshotNames[snapshot.id] = snapshot.name\n    for snapshotScore in snapshot.scores:\n        queryToScoreDict[snapshotScore.query_id] = snapshotScore.score\n        queryToNumFoundDict[snapshotScore.query_id] = snapshotScore.number_of_results\n    for snapshotQuery in snapshot.queries:\n        queryData.append({'snapshot_id':snapshot.id, 'query':snapshotQuery.query_text, 'numfound':queryToNumFoundDict[snapshotQuery.query_id], 'score':queryToScoreDict[snapshotQuery.query_id]})\n    \ndf = pd.DataFrame(queryData)\ndf",
      "metadata": {
        "trusted": true
      },
      "execution_count": 4,
      "outputs": [
        {
          "execution_count": 4,
          "output_type": "execute_result",
          "data": {
            "text/plain": "     snapshot_id               query  numfound     score\n0           2471    projector screen       564  0.358954\n1           2471            notebook       720  0.220142\n2           2471            iphone 8      1304  0.643266\n3           2471             printer      1235  0.774504\n4           2471            computer       316  0.138058\n..           ...                 ...       ...       ...\n265         2473          windows 10       200  0.850345\n266         2473           microwave       200  0.932444\n267         2473  bluetooth speakers       200  0.825084\n268         2473              coffee       200  0.215206\n269         2473                vans       200  0.000000\n\n[270 rows x 4 columns]",
            "text/html": "<div>\n<style scoped>\n    .dataframe tbody tr th:only-of-type {\n        vertical-align: middle;\n    }\n\n    .dataframe tbody tr th {\n        vertical-align: top;\n    }\n\n    .dataframe thead th {\n        text-align: right;\n    }\n</style>\n<table border=\"1\" class=\"dataframe\">\n  <thead>\n    <tr style=\"text-align: right;\">\n      <th></th>\n      <th>snapshot_id</th>\n      <th>query</th>\n      <th>numfound</th>\n      <th>score</th>\n    </tr>\n  </thead>\n  <tbody>\n    <tr>\n      <th>0</th>\n      <td>2471</td>\n      <td>projector screen</td>\n      <td>564</td>\n      <td>0.358954</td>\n    </tr>\n    <tr>\n      <th>1</th>\n      <td>2471</td>\n      <td>notebook</td>\n      <td>720</td>\n      <td>0.220142</td>\n    </tr>\n    <tr>\n      <th>2</th>\n      <td>2471</td>\n      <td>iphone 8</td>\n      <td>1304</td>\n      <td>0.643266</td>\n    </tr>\n    <tr>\n      <th>3</th>\n      <td>2471</td>\n      <td>printer</td>\n      <td>1235</td>\n      <td>0.774504</td>\n    </tr>\n    <tr>\n      <th>4</th>\n      <td>2471</td>\n      <td>computer</td>\n      <td>316</td>\n      <td>0.138058</td>\n    </tr>\n    <tr>\n      <th>...</th>\n      <td>...</td>\n      <td>...</td>\n      <td>...</td>\n      <td>...</td>\n    </tr>\n    <tr>\n      <th>265</th>\n      <td>2473</td>\n      <td>windows 10</td>\n      <td>200</td>\n      <td>0.850345</td>\n    </tr>\n    <tr>\n      <th>266</th>\n      <td>2473</td>\n      <td>microwave</td>\n      <td>200</td>\n      <td>0.932444</td>\n    </tr>\n    <tr>\n      <th>267</th>\n      <td>2473</td>\n      <td>bluetooth speakers</td>\n      <td>200</td>\n      <td>0.825084</td>\n    </tr>\n    <tr>\n      <th>268</th>\n      <td>2473</td>\n      <td>coffee</td>\n      <td>200</td>\n      <td>0.215206</td>\n    </tr>\n    <tr>\n      <th>269</th>\n      <td>2473</td>\n      <td>vans</td>\n      <td>200</td>\n      <td>0.000000</td>\n    </tr>\n  </tbody>\n</table>\n<p>270 rows × 4 columns</p>\n</div>"
          },
          "metadata": {}
        }
      ]
    },
    {
      "cell_type": "markdown",
      "source": "## Create a histogram to compare snapshots\n\nThe snapshots that are represented in fill color.",
      "metadata": {}
    },
    {
      "cell_type": "code",
      "source": "for snapshot_id in SNAPSHOT_IDS:\n    pyplot.hist(df.loc[df['snapshot_id'] == snapshot_id]['score'], 20, alpha=0.5, label=f'{snapshotNames[snapshot_id]} ({snapshot_id})')\npyplot.legend(loc='upper right')\npyplot.show()",
      "metadata": {
        "trusted": true
      },
      "execution_count": 5,
      "outputs": [
        {
          "output_type": "display_data",
          "data": {
            "text/plain": "<Figure size 640x480 with 1 Axes>",
            "image/png": "[encoded data removed]"
          },
          "metadata": {}
        }
      ]
    },
    {
      "cell_type": "markdown",
      "source": "_This notebook was last updated 03-MAR-2025_",
      "metadata": {}
    },
    {
      "cell_type": "code",
      "source": "",
      "metadata": {},
      "execution_count": null,
      "outputs": []
    }
  ]
}